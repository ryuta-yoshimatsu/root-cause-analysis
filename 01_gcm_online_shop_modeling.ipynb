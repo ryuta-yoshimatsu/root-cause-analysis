{
 "cells": [
  {
   "cell_type": "code",
   "execution_count": 0,
   "metadata": {
    "application/vnd.databricks.v1+cell": {
     "cellMetadata": {
      "byteLimit": 2048000,
      "rowLimit": 10000
     },
     "inputWidgets": {},
     "nuid": "2e48e724-3feb-4b8b-ad3c-4df321747ed6",
     "showTitle": false,
     "title": ""
    }
   },
   "outputs": [],
   "source": [
    "%pip install dowhy networkx --quiet\n",
    "dbutils.library.restartPython()"
   ]
  },
  {
   "cell_type": "code",
   "execution_count": 0,
   "metadata": {
    "application/vnd.databricks.v1+cell": {
     "cellMetadata": {
      "byteLimit": 2048000,
      "rowLimit": 10000
     },
     "inputWidgets": {},
     "nuid": "731fd899-b3a5-4463-b8e1-c62384aac438",
     "showTitle": false,
     "title": ""
    }
   },
   "outputs": [],
   "source": [
    "%run ./99_utils"
   ]
  },
  {
   "cell_type": "code",
   "execution_count": 0,
   "metadata": {
    "application/vnd.databricks.v1+cell": {
     "cellMetadata": {
      "byteLimit": 2048000,
      "rowLimit": 10000
     },
     "inputWidgets": {},
     "nuid": "b7748796-005d-4136-a3e0-882c4cfdfdaa",
     "showTitle": false,
     "title": ""
    }
   },
   "outputs": [],
   "source": [
    "catalog = \"ryuta\"\n",
    "db = \"causal\"\n",
    "model = \"root_cause_analysis_scm\"\n",
    "\n",
    "# Make sure that the catalog exists\n",
    "_ = spark.sql(f\"CREATE CATALOG IF NOT EXISTS {catalog}\")\n",
    "\n",
    "# Make sure that the schema exists\n",
    "_ = spark.sql(f\"CREATE SCHEMA IF NOT EXISTS {catalog}.{db}\")"
   ]
  },
  {
   "cell_type": "markdown",
   "metadata": {
    "application/vnd.databricks.v1+cell": {
     "cellMetadata": {
      "byteLimit": 2048000,
      "rowLimit": 10000
     },
     "inputWidgets": {},
     "nuid": "890eca40-7b46-40ff-858a-055106121489",
     "showTitle": false,
     "title": ""
    }
   },
   "source": [
    "# Causal Attributions and Root-Cause Analysis in an Online Shop"
   ]
  },
  {
   "cell_type": "markdown",
   "metadata": {
    "application/vnd.databricks.v1+cell": {
     "cellMetadata": {
      "byteLimit": 2048000,
      "rowLimit": 10000
     },
     "inputWidgets": {},
     "nuid": "f95e3de2-cba9-4217-b52b-da957b34ef46",
     "showTitle": false,
     "title": ""
    }
   },
   "source": [
    "This notebook is an extended and updated version of the corresponding blog post: [Root Cause Analysis with DoWhy, an Open Source Python Library for Causal Machine Learning](https://aws.amazon.com/blogs/opensource/root-cause-analysis-with-dowhy-an-open-source-python-library-for-causal-machine-learning/)\n",
    "\n",
    "In this example, we look at an online store and analyze how different factors influence our profit. In particular, we want to analyze an unexpected drop in profit and identify the potential root cause of it. For this, we can make use of Graphical Causal Models (GCM)."
   ]
  },
  {
   "cell_type": "markdown",
   "metadata": {
    "application/vnd.databricks.v1+cell": {
     "cellMetadata": {
      "byteLimit": 2048000,
      "rowLimit": 10000
     },
     "inputWidgets": {},
     "nuid": "419897fd-e3a6-4868-8639-ac117d721696",
     "showTitle": false,
     "title": ""
    }
   },
   "source": [
    "## The scenario"
   ]
  },
  {
   "cell_type": "markdown",
   "metadata": {
    "application/vnd.databricks.v1+cell": {
     "cellMetadata": {
      "byteLimit": 2048000,
      "rowLimit": 10000
     },
     "inputWidgets": {},
     "nuid": "881ba96a-71d8-46d8-a902-a30ac7775410",
     "showTitle": false,
     "title": ""
    }
   },
   "source": [
    "Suppose we are selling a smartphone in an online shop with a retail price of $999. The overall profit from the product depends on several factors, such as the number of sold units, operational costs or ad spending. On the other hand, the number of sold units, for instance, depends on the number of visitors on the product page, the price itself and potential ongoing promotions. Suppose we observe a steady profit of our product over the year 2021, but suddenly, there is a significant drop in profit at the beginning of 2022. Why?\n",
    "\n",
    "In the following scenario, we will use DoWhy to get a better understanding of the causal impacts of factors influencing the profit and to identify the causes for the profit drop. To analyze our problem at hand, we first need to define our belief about the causal relationships. For this, we collect daily records of the different factors affecting profit. These factors are:\n",
    "\n",
    "- **Shopping Event?**: A binary value indicating whether a special shopping event took place, such as Black Friday or Cyber Monday sales.\n",
    "- **Ad Spend**: Spending on ad campaigns.\n",
    "- **Page Views**: Number of visits on the product detail page.\n",
    "- **Unit Price**: Price of the device, which could vary due to temporary discounts.\n",
    "- **Sold Units**: Number of sold phones.\n",
    "- **Revenue**: Daily revenue.\n",
    "- **Operational Cost**: Daily operational expenses which includes production costs, spending on ads, administrative expenses, etc.\n",
    "- **Profit**: Daily profit.\n",
    "\n",
    "Looking at these attributes, we can use our domain knowledge to describe the cause-effect relationships in the form of a directed acyclic graph, which represents our causal graph in the following. The graph is shown here:"
   ]
  },
  {
   "cell_type": "code",
   "execution_count": 0,
   "metadata": {
    "application/vnd.databricks.v1+cell": {
     "cellMetadata": {
      "byteLimit": 2048000,
      "rowLimit": 10000
     },
     "inputWidgets": {},
     "nuid": "a43179e6-dfb8-41fc-a69b-06a278cd3728",
     "showTitle": false,
     "title": ""
    }
   },
   "outputs": [],
   "source": [
    "from IPython.display import Image\n",
    "Image('images/online-shop-graph.png')"
   ]
  },
  {
   "cell_type": "markdown",
   "metadata": {
    "application/vnd.databricks.v1+cell": {
     "cellMetadata": {
      "byteLimit": 2048000,
      "rowLimit": 10000
     },
     "inputWidgets": {},
     "nuid": "32d4acab-6e17-4e24-8322-1b6f081cc6bb",
     "showTitle": false,
     "title": ""
    }
   },
   "source": [
    "In this scenario we know the following:\n",
    "\n",
    "**Shopping Event?** impacts:  \n",
    "→ Ad Spend: To promote the product on special shopping events, we require additional ad spending.  \n",
    "→ Page Views: Shopping events typically attract a large number of visitors to an online retailer due to discounts and various offers.  \n",
    "→ Unit Price: Typically, retailers offer some discount on the usual retail price on days with a shopping event.  \n",
    "→ Sold Units: Shopping events often take place during annual celebrations like Christmas, Father’s day, etc, when people often buy more than usual.  \n",
    "\n",
    "**Ad Spend** impacts:  \n",
    "→ Page Views: The more we spend on ads, the more likely people will visit the product page.  \n",
    "→ Operational Cost: Ad spending is part of the operational cost.  \n",
    "\n",
    "**Page Views** impacts:  \n",
    "→ Sold Units: The more people visiting the product page, the more likely the product is bought. This is quite obvious seeing that if no one would visit the page, there wouldn’t be any sale.  \n",
    "\n",
    "**Unit Price** impacts:  \n",
    "→ Sold Units: The higher/lower the price, the less/more units are sold.  \n",
    "→ Revenue: The daily revenue typically consist of the product of the number of sold units and unit price.  \n",
    "\n",
    "**Sold Units** impacts:  \n",
    "→ Sold Units: Same argument as before, the number of sold units heavily influences the revenue.  \n",
    "→ Operational Cost: There is a manufacturing cost for each unit we produce and sell. The more units we well the higher the revenue, but also the higher the manufacturing costs.  \n",
    "\n",
    "**Operational Cost** impacts:  \n",
    "→ Profit: The profit is based on the generated revenue minus the operational cost.  \n",
    "\n",
    "**Revenue** impacts:  \n",
    "→ Profit: Same reason as for the operational cost."
   ]
  },
  {
   "cell_type": "markdown",
   "metadata": {
    "application/vnd.databricks.v1+cell": {
     "cellMetadata": {
      "byteLimit": 2048000,
      "rowLimit": 10000
     },
     "inputWidgets": {},
     "nuid": "f2a2c29d-13f4-48d1-b9d1-b8e88d89852d",
     "showTitle": false,
     "title": ""
    }
   },
   "source": [
    "## Step 1: Define causal model"
   ]
  },
  {
   "cell_type": "markdown",
   "metadata": {
    "application/vnd.databricks.v1+cell": {
     "cellMetadata": {
      "byteLimit": 2048000,
      "rowLimit": 10000
     },
     "inputWidgets": {},
     "nuid": "e9a00c67-1557-4470-83dc-e09366e4918d",
     "showTitle": false,
     "title": ""
    }
   },
   "source": [
    "Now, let us model these causal relationships. In the first step, we need to define a so-called structural causal model (SCM), which is a combination of the causal graph and the underlying generative models describing the data generation process.\n",
    "\n",
    "The causal graph can be defined via:"
   ]
  },
  {
   "cell_type": "code",
   "execution_count": 0,
   "metadata": {
    "application/vnd.databricks.v1+cell": {
     "cellMetadata": {
      "byteLimit": 2048000,
      "rowLimit": 10000
     },
     "inputWidgets": {},
     "nuid": "ac1fbf5f-f650-4a85-8011-b0d665abb502",
     "showTitle": false,
     "title": ""
    }
   },
   "outputs": [],
   "source": [
    "import networkx as nx\n",
    "\n",
    "causal_graph = nx.DiGraph([('Page_Views', 'Sold_Units'),\n",
    "                           ('Revenue', 'Profit'),\n",
    "                           ('Unit_Price', 'Sold_Units'),\n",
    "                           ('Unit_Price', 'Revenue'),\n",
    "                           ('Shopping_Event', 'Page_Views'),\n",
    "                           ('Shopping_Event', 'Sold_Units'),\n",
    "                           ('Shopping_Event', 'Unit_Price'),\n",
    "                           ('Shopping_Event', 'Ad_Spend'),\n",
    "                           ('Ad_Spend', 'Page_Views'),\n",
    "                           ('Ad_Spend', 'Operational_Cost'),\n",
    "                           ('Sold_Units', 'Revenue'),\n",
    "                           ('Sold_Units', 'Operational_Cost'),\n",
    "                           ('Operational_Cost', 'Profit')])"
   ]
  },
  {
   "cell_type": "markdown",
   "metadata": {
    "application/vnd.databricks.v1+cell": {
     "cellMetadata": {
      "byteLimit": 2048000,
      "rowLimit": 10000
     },
     "inputWidgets": {},
     "nuid": "25468432-9519-46dd-9026-aef74ac3db55",
     "showTitle": false,
     "title": ""
    }
   },
   "source": [
    "To verify that we did not forget an edge, we can plot this graph:"
   ]
  },
  {
   "cell_type": "code",
   "execution_count": 0,
   "metadata": {
    "application/vnd.databricks.v1+cell": {
     "cellMetadata": {
      "byteLimit": 2048000,
      "rowLimit": 10000
     },
     "inputWidgets": {},
     "nuid": "8c212531-9f02-40db-be9a-fdccb29efe67",
     "showTitle": false,
     "title": ""
    }
   },
   "outputs": [],
   "source": [
    "import dowhy\n",
    "from dowhy.utils import plot\n",
    "plot(causal_graph)"
   ]
  },
  {
   "cell_type": "code",
   "execution_count": 0,
   "metadata": {
    "application/vnd.databricks.v1+cell": {
     "cellMetadata": {
      "byteLimit": 2048000,
      "rowLimit": 10000
     },
     "inputWidgets": {},
     "nuid": "1346c3dc-568c-4edd-9336-340529927170",
     "showTitle": false,
     "title": ""
    }
   },
   "outputs": [],
   "source": [
    "import json\n",
    "data = nx.node_link_data(causal_graph)\n",
    "causal_graph_json = json.dumps(data)\n",
    "\n",
    "# Writing to causal_graph as json\n",
    "with open(\"/databricks/driver/causal_graph.json\", \"w\") as outfile:\n",
    "    outfile.write(causal_graph_json)"
   ]
  },
  {
   "cell_type": "markdown",
   "metadata": {
    "application/vnd.databricks.v1+cell": {
     "cellMetadata": {
      "byteLimit": 2048000,
      "rowLimit": 10000
     },
     "inputWidgets": {},
     "nuid": "f6d7a872-8366-4150-bc18-b7cc68fc9f0a",
     "showTitle": false,
     "title": ""
    }
   },
   "source": [
    "Next, we look at the data from 2021:"
   ]
  },
  {
   "cell_type": "code",
   "execution_count": 0,
   "metadata": {
    "application/vnd.databricks.v1+cell": {
     "cellMetadata": {
      "byteLimit": 2048000,
      "rowLimit": 10000
     },
     "inputWidgets": {},
     "nuid": "c49e8c19-612d-4a23-b43f-d8c6c4622f6d",
     "showTitle": false,
     "title": ""
    }
   },
   "outputs": [],
   "source": [
    "# Custom function defined in 99_utils - loads data from csv files and write them to delta\n",
    "prepare_data(catalog, db)"
   ]
  },
  {
   "cell_type": "code",
   "execution_count": 0,
   "metadata": {
    "application/vnd.databricks.v1+cell": {
     "cellMetadata": {
      "byteLimit": 2048000,
      "rowLimit": 10000
     },
     "inputWidgets": {},
     "nuid": "0511ec3f-1051-41e8-a62c-96bf568189df",
     "showTitle": false,
     "title": ""
    }
   },
   "outputs": [],
   "source": [
    "table_name = f\"{catalog}.{db}.data_2021\"\n",
    "version_query = f\"DESCRIBE HISTORY {table_name}\"\n",
    "version = spark.sql(version_query).collect()[0][0]\n",
    "sdf = spark.read.format(\"delta\").option(\"versionAsOf\", version).table(table_name)\n",
    "pdf = sdf.toPandas().set_index(\"Date\")\n",
    "pdf.head()"
   ]
  },
  {
   "cell_type": "markdown",
   "metadata": {
    "application/vnd.databricks.v1+cell": {
     "cellMetadata": {
      "byteLimit": 2048000,
      "rowLimit": 10000
     },
     "inputWidgets": {},
     "nuid": "60cbbc9a-02ee-462e-ae03-01afe3dfcd59",
     "showTitle": false,
     "title": ""
    }
   },
   "source": [
    "As we see, we have one sample for each day in 2021 with all the variables in the causal graph. Note that in the synthetic data we consider here, shopping events were also generated randomly.\n",
    "\n",
    "We defined the causal graph, but we still need to assign generative models to the nodes. We can either manually specify those models, and configure them if needed, or automatically infer “appropriate” models using heuristics from data. We will leverage the latter here:"
   ]
  },
  {
   "cell_type": "code",
   "execution_count": 0,
   "metadata": {
    "application/vnd.databricks.v1+cell": {
     "cellMetadata": {
      "byteLimit": 2048000,
      "rowLimit": 10000
     },
     "inputWidgets": {},
     "nuid": "267b5a9b-0cbf-4c03-826d-ed1cf88bfe92",
     "showTitle": false,
     "title": ""
    }
   },
   "outputs": [],
   "source": [
    "from dowhy import gcm\n",
    "\n",
    "# Create the structural causal model object\n",
    "scm = gcm.StructuralCausalModel(causal_graph)\n",
    "\n",
    "# Automatically assign generative models to each node based on the given data\n",
    "auto_assignment_summary = gcm.auto.assign_causal_mechanisms(\n",
    "  scm, \n",
    "  pdf, \n",
    "  override_models=True, \n",
    "  quality=gcm.auto.AssignmentQuality.GOOD\n",
    "  )"
   ]
  },
  {
   "cell_type": "markdown",
   "metadata": {
    "application/vnd.databricks.v1+cell": {
     "cellMetadata": {
      "byteLimit": 2048000,
      "rowLimit": 10000
     },
     "inputWidgets": {},
     "nuid": "884cf16c-7739-43cd-ba77-c6a8f8e5fa4d",
     "showTitle": false,
     "title": ""
    }
   },
   "source": [
    "Whenever available, we recommend assigning models based on prior knowledge as then models would closely mimic the physics of the domain, and not rely on nuances of the data. However, here we asked DoWhy to do this for us instead.\n",
    "\n",
    "After automatically assign the models, we can print a summary to obtain some insights into the selected models:"
   ]
  },
  {
   "cell_type": "code",
   "execution_count": 0,
   "metadata": {
    "application/vnd.databricks.v1+cell": {
     "cellMetadata": {
      "byteLimit": 2048000,
      "rowLimit": 10000
     },
     "inputWidgets": {},
     "nuid": "bf53c492-8e44-4067-82cc-964f0b9e0930",
     "showTitle": false,
     "title": ""
    }
   },
   "outputs": [],
   "source": [
    "print(auto_assignment_summary)"
   ]
  },
  {
   "cell_type": "markdown",
   "metadata": {
    "application/vnd.databricks.v1+cell": {
     "cellMetadata": {
      "byteLimit": 2048000,
      "rowLimit": 10000
     },
     "inputWidgets": {},
     "nuid": "3abff011-29c3-4490-9d5f-12e33eb8b5ba",
     "showTitle": false,
     "title": ""
    }
   },
   "source": [
    "As we see, while the auto assignment also considered non-linear models, a linear model is sufficient for most relationships, except for Revenue, which is the product of Sold Units and Unit Price."
   ]
  },
  {
   "cell_type": "markdown",
   "metadata": {
    "application/vnd.databricks.v1+cell": {
     "cellMetadata": {
      "byteLimit": 2048000,
      "rowLimit": 10000
     },
     "inputWidgets": {},
     "nuid": "cc684c83-fff8-47fa-825c-84e071cc1465",
     "showTitle": false,
     "title": ""
    }
   },
   "source": [
    "## Step 2: Fit causal models to data"
   ]
  },
  {
   "cell_type": "markdown",
   "metadata": {
    "application/vnd.databricks.v1+cell": {
     "cellMetadata": {
      "byteLimit": 2048000,
      "rowLimit": 10000
     },
     "inputWidgets": {},
     "nuid": "b743ee8f-209b-49ab-8cbd-8d048e05d6ba",
     "showTitle": false,
     "title": ""
    }
   },
   "source": [
    "After assigning a model to each node, we need to learn the parameters of the model:"
   ]
  },
  {
   "cell_type": "code",
   "execution_count": 0,
   "metadata": {
    "application/vnd.databricks.v1+cell": {
     "cellMetadata": {
      "byteLimit": 2048000,
      "rowLimit": 10000
     },
     "inputWidgets": {},
     "nuid": "8348ad0d-84a5-4eab-a7b1-57fa1889e24f",
     "showTitle": false,
     "title": ""
    }
   },
   "outputs": [],
   "source": [
    "gcm.fit(scm, pdf)"
   ]
  },
  {
   "cell_type": "markdown",
   "metadata": {
    "application/vnd.databricks.v1+cell": {
     "cellMetadata": {
      "byteLimit": 2048000,
      "rowLimit": 10000
     },
     "inputWidgets": {},
     "nuid": "dfd5c6d9-bdba-4c4a-aaeb-a68917473c13",
     "showTitle": false,
     "title": ""
    }
   },
   "source": [
    "The fit method learns the parameters of the generative models in each node. Before we continue, let's have a quick look into the performance of the causal mechanisms and how well they capture the distribution:"
   ]
  },
  {
   "cell_type": "code",
   "execution_count": 0,
   "metadata": {
    "application/vnd.databricks.v1+cell": {
     "cellMetadata": {
      "byteLimit": 2048000,
      "rowLimit": 10000
     },
     "inputWidgets": {},
     "nuid": "62dfd48d-a3a3-4a60-a05d-b71ed9834eee",
     "showTitle": false,
     "title": ""
    }
   },
   "outputs": [],
   "source": [
    "print(gcm.evaluate_causal_model(\n",
    "  scm,\n",
    "  pdf, \n",
    "  compare_mechanism_baselines=True, \n",
    "  evaluate_invertibility_assumptions=False))"
   ]
  },
  {
   "cell_type": "markdown",
   "metadata": {
    "application/vnd.databricks.v1+cell": {
     "cellMetadata": {
      "byteLimit": 2048000,
      "rowLimit": 10000
     },
     "inputWidgets": {},
     "nuid": "a7bda6e1-deca-4ca8-8960-f9472d1c4c34",
     "showTitle": false,
     "title": ""
    }
   },
   "source": [
    "The fitted causal mechanisms are fairly good representations of the data generation process, with some minor inaccuracies. However, this is to be expected given the small sample size and relatively small signal-to-noise ratio for many nodes. Most importantly, all the baseline mechanisms did not perform better, which is a good indicator that our model selection is appropriate. Based on the evaluation, we also do not reject the given causal graph."
   ]
  },
  {
   "cell_type": "markdown",
   "metadata": {
    "application/vnd.databricks.v1+cell": {
     "cellMetadata": {
      "byteLimit": 2048000,
      "rowLimit": 10000
     },
     "inputWidgets": {},
     "nuid": "852199ff-62f4-4c6d-8f92-07522f736223",
     "showTitle": false,
     "title": ""
    }
   },
   "source": [
    "> The selection of baseline models or the p-value for graph falsification can be configured as well. For more details, take a look at the corresponding evaluate_causal_model documentation."
   ]
  },
  {
   "cell_type": "code",
   "execution_count": 0,
   "metadata": {
    "application/vnd.databricks.v1+cell": {
     "cellMetadata": {
      "byteLimit": 2048000,
      "rowLimit": 10000
     },
     "inputWidgets": {},
     "nuid": "463028b0-947b-4453-b6df-b138ecfe2f67",
     "showTitle": false,
     "title": ""
    }
   },
   "outputs": [],
   "source": [
    "import mlflow\n",
    "\n",
    "class SCM(mlflow.pyfunc.PythonModel):\n",
    "  def __init__(self, scm, causal_graph, target_node):\n",
    "    from dowhy import gcm\n",
    "    import pandas as pd\n",
    "    self.scm = scm\n",
    "    self.causal_graph = causal_graph\n",
    "    self.target_node = target_node\n",
    "\n",
    "  def load_scm(self):\n",
    "    return self.scm\n",
    "  \n",
    "  def load_causal_graph(self):\n",
    "    return self.causal_graph\n",
    "  \n",
    "  def predict(self, context, input_df):\n",
    "    return pd.DataFrame(gcm.attribute_anomalies(self.scm, target_node=self.target_node, anomaly_samples=input_df))"
   ]
  },
  {
   "cell_type": "code",
   "execution_count": 0,
   "metadata": {
    "application/vnd.databricks.v1+cell": {
     "cellMetadata": {
      "byteLimit": 2048000,
      "rowLimit": 10000
     },
     "inputWidgets": {},
     "nuid": "edd02091-0e36-4523-b0bd-842af4cda894",
     "showTitle": false,
     "title": ""
    }
   },
   "outputs": [],
   "source": [
    "from dowhy import gcm\n",
    "import mlflow\n",
    "import mlflow.data\n",
    "from mlflow.data.spark_dataset import SparkDataset\n",
    "from mlflow.models.signature import ModelSignature\n",
    "from mlflow.types import DataType, Schema, ColSpec\n",
    "from mlflow.models import infer_signature\n",
    "\n",
    "# Define input and output schema\n",
    "input_example = pdf.iloc[[0]]\n",
    "signature = infer_signature(\n",
    "    model_input=input_example, \n",
    "    model_output=pd.DataFrame(gcm.attribute_anomalies(scm, target_node=\"Profit\", anomaly_samples=input_example)),\n",
    "    )\n",
    "registered_model_name = f\"{catalog}.{db}.{model}\"\n",
    "\n",
    "with mlflow.start_run(run_name=\"causal_model\") as run:\n",
    "    mlflow.pyfunc.log_model(\n",
    "        \"model\",\n",
    "        python_model=SCM(scm, causal_graph, \"Profit\"),\n",
    "        pip_requirements=[\n",
    "            \"dowhy==\" + dowhy.__version__, \n",
    "            \"networkx==\" + nx.__version__,\n",
    "            ],\n",
    "        signature=signature,\n",
    "        input_example=input_example,\n",
    "        registered_model_name=registered_model_name,\n",
    "    )\n",
    "    mlflow.log_params({\n",
    "        **{\n",
    "            \"override_models\": \"True\", \n",
    "            \"quality\": \"gcm.auto.AssignmentQuality.GOOD\",\n",
    "        }})\n",
    "    mlflow.log_artifact(\"/databricks/driver/causal_graph.json\", artifact_path=\"causal_graph\")\n",
    "    mlflow.log_input(mlflow.data.from_spark(df=sdf, table_name=table_name, version=version), context=\"training\")"
   ]
  },
  {
   "cell_type": "code",
   "execution_count": 0,
   "metadata": {
    "application/vnd.databricks.v1+cell": {
     "cellMetadata": {
      "byteLimit": 2048000,
      "rowLimit": 10000
     },
     "inputWidgets": {},
     "nuid": "5b8438f0-7c0d-4bf4-8ad5-d61966165338",
     "showTitle": false,
     "title": ""
    }
   },
   "outputs": [],
   "source": [
    "from mlflow import MlflowClient\n",
    "mlflow.set_registry_uri(\"databricks-uc\")\n",
    "mlflow_client = MlflowClient()\n",
    "\n",
    "# Assign an alias to the latest model version\n",
    "def get_latest_model_version(mlflow_client, registered_name):\n",
    "    latest_version = 1\n",
    "    for mv in mlflow_client.search_model_versions(f\"name='{registered_name}'\"):\n",
    "        version_int = int(mv.version)\n",
    "        if version_int > latest_version:\n",
    "            latest_version = version_int\n",
    "    return latest_version\n",
    "\n",
    "\n",
    "model_version = get_latest_model_version(mlflow_client, registered_model_name)\n",
    "mlflow_client.set_registered_model_alias(registered_model_name, \"champion\", model_version)"
   ]
  },
  {
   "cell_type": "markdown",
   "metadata": {
    "application/vnd.databricks.v1+cell": {
     "cellMetadata": {
      "byteLimit": 2048000,
      "rowLimit": 10000
     },
     "inputWidgets": {},
     "nuid": "dd77ac8e-6b4b-48da-bf28-60331c1ce31e",
     "showTitle": false,
     "title": ""
    }
   },
   "source": [
    "© 2024 Databricks, Inc. All rights reserved. The source in this notebook is provided subject to the Databricks License. All included or referenced third party libraries are subject to the licenses set forth below.\n",
    "\n",
    "| library                                | description             | license    | source                                              |\n",
    "|----------------------------------------|-------------------------|------------|-----------------------------------------------------|\n",
    "| dowhy | A Python library for causal inference that supports explicit modeling and testing of causal assumptions | MIT | https://pypi.org/project/dowhy/\n",
    "| networkx | A Python package for the creation, manipulation, and study of the structure, dynamics, and functions of complex networks. | BSD License | https://pypi.org/project/networkx/"
   ]
  },
  {
   "cell_type": "code",
   "execution_count": 0,
   "metadata": {
    "application/vnd.databricks.v1+cell": {
     "cellMetadata": {
      "byteLimit": 2048000,
      "rowLimit": 10000
     },
     "inputWidgets": {},
     "nuid": "c179bf85-a575-4093-ad32-c64a624e4e25",
     "showTitle": false,
     "title": ""
    }
   },
   "outputs": [],
   "source": []
  }
 ],
 "metadata": {
  "application/vnd.databricks.v1+notebook": {
   "dashboards": [],
   "environmentMetadata": null,
   "language": "python",
   "notebookMetadata": {
    "pythonIndentUnit": 2
   },
   "notebookName": "01_gcm_online_shop_modeling",
   "widgets": {}
  },
  "kernelspec": {
   "display_name": "Python 3 (ipykernel)",
   "language": "python",
   "name": "python3"
  },
  "language_info": {
   "codemirror_mode": {
    "name": "ipython",
    "version": 3
   },
   "file_extension": ".py",
   "mimetype": "text/x-python",
   "name": "python",
   "nbconvert_exporter": "python",
   "pygments_lexer": "ipython3",
   "version": "3.9.16"
  }
 },
 "nbformat": 4,
 "nbformat_minor": 0
}
