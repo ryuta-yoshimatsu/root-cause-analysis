{
 "cells": [
  {
   "cell_type": "code",
   "execution_count": 0,
   "metadata": {
    "application/vnd.databricks.v1+cell": {
     "cellMetadata": {
      "byteLimit": 2048000,
      "rowLimit": 10000
     },
     "inputWidgets": {},
     "nuid": "2e48e724-3feb-4b8b-ad3c-4df321747ed6",
     "showTitle": false,
     "title": ""
    }
   },
   "outputs": [],
   "source": [
    "%pip install dowhy networkx --quiet\n",
    "dbutils.library.restartPython()"
   ]
  },
  {
   "cell_type": "code",
   "execution_count": 0,
   "metadata": {
    "application/vnd.databricks.v1+cell": {
     "cellMetadata": {
      "byteLimit": 2048000,
      "rowLimit": 10000
     },
     "inputWidgets": {},
     "nuid": "e618dadc-2403-45c0-9dce-f78086c66359",
     "showTitle": false,
     "title": ""
    }
   },
   "outputs": [],
   "source": [
    "catalog = \"ryuta\"\n",
    "db = \"causal\"\n",
    "model = \"root_cause_analysis_scm\""
   ]
  },
  {
   "cell_type": "markdown",
   "metadata": {
    "application/vnd.databricks.v1+cell": {
     "cellMetadata": {
      "byteLimit": 2048000,
      "rowLimit": 10000
     },
     "inputWidgets": {},
     "nuid": "a3cec85e-d1e4-441a-a668-d78d10ad68e0",
     "showTitle": false,
     "title": ""
    }
   },
   "source": [
    "## Step 3: Answer causal questions\n",
    "### Load the model"
   ]
  },
  {
   "cell_type": "code",
   "execution_count": 0,
   "metadata": {
    "application/vnd.databricks.v1+cell": {
     "cellMetadata": {
      "byteLimit": 2048000,
      "rowLimit": 10000
     },
     "inputWidgets": {},
     "nuid": "06623cc0-8f3a-4061-89b4-084278785d4d",
     "showTitle": false,
     "title": ""
    }
   },
   "outputs": [],
   "source": [
    "import mlflow\n",
    "from mlflow import MlflowClient\n",
    "import pandas as pd\n",
    "\n",
    "mlflow.set_registry_uri(\"databricks-uc\")\n",
    "mlflow_client = MlflowClient()\n",
    "\n",
    "registered_model_name = f\"{catalog}.{db}.{model}\"\n",
    "model = f\"models:/{registered_model_name}@Champion\"\n",
    "\n",
    "# Load model as a PyFuncModel.\n",
    "loaded_model = mlflow.pyfunc.load_model(model)\n",
    "loaded_scm = loaded_model.unwrap_python_model().load_scm()\n",
    "loaded_causal_graph = loaded_model.unwrap_python_model().load_causal_graph()"
   ]
  },
  {
   "cell_type": "markdown",
   "metadata": {
    "application/vnd.databricks.v1+cell": {
     "cellMetadata": {
      "byteLimit": 2048000,
      "rowLimit": 10000
     },
     "inputWidgets": {},
     "nuid": "694c8189-1670-48fa-b1e0-46a5d4f799ea",
     "showTitle": false,
     "title": ""
    }
   },
   "source": [
    "### Generate new samples\n",
    "\n",
    "Since we learned about the data generation process, we can also generate new samples:"
   ]
  },
  {
   "cell_type": "code",
   "execution_count": 0,
   "metadata": {
    "application/vnd.databricks.v1+cell": {
     "cellMetadata": {
      "byteLimit": 2048000,
      "rowLimit": 10000
     },
     "inputWidgets": {},
     "nuid": "ec5a9737-e48e-44ae-8c3e-b9f10ea76c26",
     "showTitle": false,
     "title": ""
    }
   },
   "outputs": [],
   "source": [
    "from dowhy import gcm\n",
    "gcm.draw_samples(loaded_scm, num_samples=10)"
   ]
  },
  {
   "cell_type": "markdown",
   "metadata": {
    "application/vnd.databricks.v1+cell": {
     "cellMetadata": {
      "byteLimit": 2048000,
      "rowLimit": 10000
     },
     "inputWidgets": {},
     "nuid": "115e3efd-a44a-42d3-b716-874e90681b38",
     "showTitle": false,
     "title": ""
    }
   },
   "source": [
    "We have drawn 10 samples from the joint distribution following the learned causal relationships."
   ]
  },
  {
   "cell_type": "markdown",
   "metadata": {
    "application/vnd.databricks.v1+cell": {
     "cellMetadata": {
      "byteLimit": 2048000,
      "rowLimit": 10000
     },
     "inputWidgets": {},
     "nuid": "f610759a-aafb-4b99-8b0d-011d85cdf5f6",
     "showTitle": false,
     "title": ""
    }
   },
   "source": [
    "### What are the key factors influencing the variance in profit?"
   ]
  },
  {
   "cell_type": "markdown",
   "metadata": {
    "application/vnd.databricks.v1+cell": {
     "cellMetadata": {
      "byteLimit": 2048000,
      "rowLimit": 10000
     },
     "inputWidgets": {},
     "nuid": "496e4fa8-311e-400c-94e6-3a95dca4f3db",
     "showTitle": false,
     "title": ""
    }
   },
   "source": [
    "At this point, we want to understand which factors drive changes in the Profit. Let us first have a closer look at the Profit over time. For this, we plot the Profit over time for 2021, where the produced plot shows the Profit in dollars on the Y-axis and the time on the X-axis."
   ]
  },
  {
   "cell_type": "code",
   "execution_count": 0,
   "metadata": {
    "application/vnd.databricks.v1+cell": {
     "cellMetadata": {
      "byteLimit": 2048000,
      "rowLimit": 10000
     },
     "inputWidgets": {},
     "nuid": "b9022611-528b-4d52-af7d-8a69b0c22dda",
     "showTitle": false,
     "title": ""
    }
   },
   "outputs": [],
   "source": [
    "data_2021 = spark.read.table(f\"{catalog}.{db}.data_2021\")\n",
    "data_2021 = data_2021.toPandas().set_index(\"Date\")\n",
    "data_2021.head()"
   ]
  },
  {
   "cell_type": "code",
   "execution_count": 0,
   "metadata": {
    "application/vnd.databricks.v1+cell": {
     "cellMetadata": {
      "byteLimit": 2048000,
      "rowLimit": 10000
     },
     "inputWidgets": {},
     "nuid": "0fca8c16-9a65-49c2-8bd7-1263423214af",
     "showTitle": false,
     "title": ""
    }
   },
   "outputs": [],
   "source": [
    "data_2021['Profit'].plot(ylabel='Profit in $', figsize=(15,5), rot=45)"
   ]
  },
  {
   "cell_type": "markdown",
   "metadata": {
    "application/vnd.databricks.v1+cell": {
     "cellMetadata": {
      "byteLimit": 2048000,
      "rowLimit": 10000
     },
     "inputWidgets": {},
     "nuid": "cbd04568-3b53-4761-91cf-20d0c4b8cda5",
     "showTitle": false,
     "title": ""
    }
   },
   "source": [
    "We see some significant spikes in the Profit across the year. We can further quantify this by looking at the standard deviation:"
   ]
  },
  {
   "cell_type": "code",
   "execution_count": 0,
   "metadata": {
    "application/vnd.databricks.v1+cell": {
     "cellMetadata": {
      "byteLimit": 2048000,
      "rowLimit": 10000
     },
     "inputWidgets": {},
     "nuid": "0fd7535a-15f5-46cc-bedc-94e7ca3dc697",
     "showTitle": false,
     "title": ""
    }
   },
   "outputs": [],
   "source": [
    "data_2021['Profit'].std()"
   ]
  },
  {
   "cell_type": "markdown",
   "metadata": {
    "application/vnd.databricks.v1+cell": {
     "cellMetadata": {
      "byteLimit": 2048000,
      "rowLimit": 10000
     },
     "inputWidgets": {},
     "nuid": "7bd77ff1-5f85-4686-960f-ebd6ec444a85",
     "showTitle": false,
     "title": ""
    }
   },
   "source": [
    "The estimated standard deviation of ~259247 dollars is quite significant. Looking at the causal graph, we see that Revenue and Operational Cost have a direct impact on the Profit, but which of them contribute the most to the variance? To find this out, we can make use of the direct arrow strength algorithm that quantifies the causal influence of a specific arrow in the graph:"
   ]
  },
  {
   "cell_type": "code",
   "execution_count": 0,
   "metadata": {
    "application/vnd.databricks.v1+cell": {
     "cellMetadata": {
      "byteLimit": 2048000,
      "rowLimit": 10000
     },
     "inputWidgets": {},
     "nuid": "70c4879f-19dd-4f0c-a912-62fab5ef88b7",
     "showTitle": false,
     "title": ""
    }
   },
   "outputs": [],
   "source": [
    "import numpy as np\n",
    "from dowhy.utils import plot\n",
    "\n",
    "# Note: The percentage conversion only makes sense for purely positive attributions.\n",
    "def convert_to_percentage(value_dictionary):\n",
    "    total_absolute_sum = np.sum([abs(v) for v in value_dictionary.values()])\n",
    "    return {k: abs(v) / total_absolute_sum * 100 for k, v in value_dictionary.items()}\n",
    "\n",
    "\n",
    "arrow_strengths = gcm.arrow_strength(loaded_scm, target_node='Profit')\n",
    "\n",
    "plot(loaded_causal_graph, \n",
    "     causal_strengths=convert_to_percentage(arrow_strengths), \n",
    "     figure_size=[15, 10])"
   ]
  },
  {
   "cell_type": "code",
   "execution_count": 0,
   "metadata": {
    "application/vnd.databricks.v1+cell": {
     "cellMetadata": {
      "byteLimit": 2048000,
      "rowLimit": 10000
     },
     "inputWidgets": {},
     "nuid": "11b50784-e1d2-464a-b7cb-c1a3d6d41dae",
     "showTitle": false,
     "title": ""
    }
   },
   "outputs": [],
   "source": [
    "arrow_strengths"
   ]
  },
  {
   "cell_type": "markdown",
   "metadata": {
    "application/vnd.databricks.v1+cell": {
     "cellMetadata": {
      "byteLimit": 2048000,
      "rowLimit": 10000
     },
     "inputWidgets": {},
     "nuid": "44778a39-e194-4d35-ad17-09818f9a2de3",
     "showTitle": false,
     "title": ""
    }
   },
   "source": [
    "In this causal graph, we see how much each node contributes to the variance in Profit. For simplicity, the contributions are converted to percentages. Since Profit itself is only the difference between Revenue and Operational Cost, we do not expect further factors influencing the variance. As we see, Revenue has more impact than Operational Cost. This makes sense seeing that Revenue typically varies more than Operational Cost due to the stronger dependency on the number of sold units. Note that the direct arrow strength method also supports the use of other kinds of measures, for instance, KL divergence. \n",
    "\n",
    "While the direct influences are helpful in understanding which direct parents influence the most on the variance in Profit, this mostly confirms our prior belief. The question of which factor is ultimately responsible for this high variance is, however, still unclear. For instance, Revenue itself is based on Sold Units and the Unit Price. Although we could recursively apply the direct arrow strength to all nodes, we would not get a correctly weighted insight into the influence of upstream nodes on the variance.\n",
    "\n",
    "What are the important causal factors contributing to the variance in Profit? To find this out, we can use the intrinsic causal contribution method that attributes the variance in Profit to the upstream nodes in the causal graph by only considering information that is newly added by a node and not just inherited from its parents. For instance, a node that is simply a rescaled version of its parent would not have any intrinsic contribution. See the corresponding [research paper](https://arxiv.org/abs/2007.00714) for more details.\n",
    "\n",
    "Let's apply the method to the data:"
   ]
  },
  {
   "cell_type": "code",
   "execution_count": 0,
   "metadata": {
    "application/vnd.databricks.v1+cell": {
     "cellMetadata": {
      "byteLimit": 2048000,
      "rowLimit": 10000
     },
     "inputWidgets": {},
     "nuid": "35fd2711-983f-4a85-b747-46e4acbba373",
     "showTitle": false,
     "title": ""
    }
   },
   "outputs": [],
   "source": [
    "iccs = gcm.intrinsic_causal_influence(loaded_scm, target_node='Profit', num_samples_randomization=500)"
   ]
  },
  {
   "cell_type": "code",
   "execution_count": 0,
   "metadata": {
    "application/vnd.databricks.v1+cell": {
     "cellMetadata": {
      "byteLimit": 2048000,
      "rowLimit": 10000
     },
     "inputWidgets": {},
     "nuid": "c84d0934-08a0-4fe0-bcc0-6dd00904bf84",
     "showTitle": false,
     "title": ""
    }
   },
   "outputs": [],
   "source": [
    "from dowhy.utils import bar_plot\n",
    "\n",
    "bar_plot(convert_to_percentage(iccs), ylabel='Variance attribution in %')"
   ]
  },
  {
   "cell_type": "markdown",
   "metadata": {
    "application/vnd.databricks.v1+cell": {
     "cellMetadata": {
      "byteLimit": 2048000,
      "rowLimit": 10000
     },
     "inputWidgets": {},
     "nuid": "56855293-94de-486b-a586-94c4e3976e1a",
     "showTitle": false,
     "title": ""
    }
   },
   "source": [
    "The scores shown in this bar chart are percentages indicating how much variance each node is contributing to Profit — without inheriting the variance from its parents in the causal graph. As we see quite clearly, the Shopping Event has by far the biggest influence on the variance in our Profit. This makes sense, seeing that the sales are heavily impacted during promotion periods like Black Friday or Prime Day and, thus, impact the overall profit. Surprisingly, we also see that factors such as the number of sold units or number of page views have a rather small influence, i.e., the large variance in profit can be almost completely explained by the shopping events. Let’s check this visually by marking the days where we had a shopping event. To do so, we use the pandas plot function again, but additionally mark all points in the plot with a vertical red bar where a shopping event occured:"
   ]
  },
  {
   "cell_type": "code",
   "execution_count": 0,
   "metadata": {
    "application/vnd.databricks.v1+cell": {
     "cellMetadata": {
      "byteLimit": 2048000,
      "rowLimit": 10000
     },
     "inputWidgets": {},
     "nuid": "af95ba0d-0ec9-4655-930b-2802517f0ad1",
     "showTitle": false,
     "title": ""
    }
   },
   "outputs": [],
   "source": [
    "import matplotlib.pyplot as plt\n",
    "\n",
    "data_2021['Profit'].plot(ylabel='Profit in $', figsize=(15,5), rot=45)\n",
    "plt.vlines(np.arange(0, data_2021.shape[0])[data_2021['Shopping_Event']], data_2021['Profit'].min(), data_2021['Profit'].max(), linewidth=10, alpha=0.3, color='r')"
   ]
  },
  {
   "cell_type": "markdown",
   "metadata": {
    "application/vnd.databricks.v1+cell": {
     "cellMetadata": {
      "byteLimit": 2048000,
      "rowLimit": 10000
     },
     "inputWidgets": {},
     "nuid": "8fa33744-644d-403d-b318-e5a75c69086c",
     "showTitle": false,
     "title": ""
    }
   },
   "source": [
    "We clearly see that the shopping events coincide with the high peaks in profit. While we could have investigated this manually by looking at all kinds of different relationships or using domain knowledge, the tasks gets much more difficult as the complexity of the system increases. With a few lines of code, we obtained these insights from DoWhy."
   ]
  },
  {
   "cell_type": "markdown",
   "metadata": {
    "application/vnd.databricks.v1+cell": {
     "cellMetadata": {
      "byteLimit": 2048000,
      "rowLimit": 10000
     },
     "inputWidgets": {},
     "nuid": "13a4545d-1fa3-4c5d-af3c-408b3b9ae072",
     "showTitle": false,
     "title": ""
    }
   },
   "source": [
    "### What are the key factors explaining the Profit drop on a particular day?"
   ]
  },
  {
   "cell_type": "markdown",
   "metadata": {
    "application/vnd.databricks.v1+cell": {
     "cellMetadata": {
      "byteLimit": 2048000,
      "rowLimit": 10000
     },
     "inputWidgets": {},
     "nuid": "00c5fa5d-57f6-4173-a18b-e1087c83c785",
     "showTitle": false,
     "title": ""
    }
   },
   "source": [
    "After a successful year in terms of profit, newer technologies come to the market and, thus, we want to keep the profit up and get rid of excess inventory by selling more devices. In order to increase the demand, we therefore lower the retail price by 10% at the beginning of 2022. Based on a prior analysis, we know that a decrease of 10% in the price would roughly increase the demand by 13.75%, a slight surplus. Following the price elasticity of demand model, we expect an increase of around 37.5% in number of Sold Units. Let us take a look if this is true by loading the data for the first day in 2022 and taking the fraction between the numbers of Sold Units from both years for that day:"
   ]
  },
  {
   "cell_type": "code",
   "execution_count": 0,
   "metadata": {
    "application/vnd.databricks.v1+cell": {
     "cellMetadata": {
      "byteLimit": 2048000,
      "rowLimit": 10000
     },
     "inputWidgets": {},
     "nuid": "314b4794-6dfe-4bde-89a7-e85e2abdde6a",
     "showTitle": false,
     "title": ""
    }
   },
   "outputs": [],
   "source": [
    "data_first_day_2022 = spark.read.table(f\"{catalog}.{db}.data_first_day_2022\")\n",
    "data_first_day_2022 = data_first_day_2022.toPandas().set_index(\"Date\")\n",
    "(data_first_day_2022['Sold_Units'][0] / data_2021['Sold_Units'][0] - 1) * 100"
   ]
  },
  {
   "cell_type": "markdown",
   "metadata": {
    "application/vnd.databricks.v1+cell": {
     "cellMetadata": {
      "byteLimit": 2048000,
      "rowLimit": 10000
     },
     "inputWidgets": {},
     "nuid": "3a7d75d9-213f-4b38-94b0-2cce0394276f",
     "showTitle": false,
     "title": ""
    }
   },
   "source": [
    "Surprisingly, we only increased the number of sold units by ~19%. This will certainly impact the profit given that the revenue is much smaller than expected. Let us compare it with the previous year at the same time:"
   ]
  },
  {
   "cell_type": "code",
   "execution_count": 0,
   "metadata": {
    "application/vnd.databricks.v1+cell": {
     "cellMetadata": {
      "byteLimit": 2048000,
      "rowLimit": 10000
     },
     "inputWidgets": {},
     "nuid": "c87bd697-7c93-4432-bd82-7ae3d5cd55ca",
     "showTitle": false,
     "title": ""
    }
   },
   "outputs": [],
   "source": [
    "(1 - data_first_day_2022['Profit'][0] / data_2021['Profit'][0]) * 100"
   ]
  },
  {
   "cell_type": "markdown",
   "metadata": {
    "application/vnd.databricks.v1+cell": {
     "cellMetadata": {
      "byteLimit": 2048000,
      "rowLimit": 10000
     },
     "inputWidgets": {},
     "nuid": "cea1720d-7bc0-4d41-9104-7074361857cb",
     "showTitle": false,
     "title": ""
    }
   },
   "source": [
    "Indeed, the profit dropped by ~8.5%. Why is this the case seeing that we would expect a much higher demand due to the decreased price? Let us investigate what is going on here.\n",
    "\n",
    "In order to figure out what contributed to the Profit drop, we can make use of DoWhy’s anomaly attribution feature. Here, we only need to specify the target node we are interested in (the Profit) and the anomaly sample we want to analyze (the first day of 2022). These results are then plotted in a bar chart indicating the attribution scores of each node for the given anomaly sample:"
   ]
  },
  {
   "cell_type": "code",
   "execution_count": 0,
   "metadata": {
    "application/vnd.databricks.v1+cell": {
     "cellMetadata": {
      "byteLimit": 2048000,
      "rowLimit": 10000
     },
     "inputWidgets": {},
     "nuid": "e3e9e7db-fca7-415b-a3c3-4e7f2e1983da",
     "showTitle": false,
     "title": ""
    }
   },
   "outputs": [],
   "source": [
    "data_first_day_2022"
   ]
  },
  {
   "cell_type": "code",
   "execution_count": 0,
   "metadata": {
    "application/vnd.databricks.v1+cell": {
     "cellMetadata": {
      "byteLimit": 2048000,
      "rowLimit": 10000
     },
     "inputWidgets": {},
     "nuid": "f3b7e955-a687-44ae-ad84-e03d46b2da64",
     "showTitle": false,
     "title": ""
    }
   },
   "outputs": [],
   "source": [
    "attributions = gcm.attribute_anomalies(loaded_scm, target_node='Profit', anomaly_samples=data_first_day_2022)\n",
    "\n",
    "bar_plot({k: v[0] for k, v in attributions.items()}, ylabel='Anomaly attribution score')"
   ]
  },
  {
   "cell_type": "markdown",
   "metadata": {
    "application/vnd.databricks.v1+cell": {
     "cellMetadata": {
      "byteLimit": 2048000,
      "rowLimit": 10000
     },
     "inputWidgets": {},
     "nuid": "ea12fd66-1393-4a3e-962e-b85167e168b0",
     "showTitle": false,
     "title": ""
    }
   },
   "source": [
    "A positive attribution score means that the corresponding node contributed to the observed anomaly, which is in our case the drop in Profit. A negative score of a node indicates that the observed value for the node is actually reducing the likelihood of the anomaly (e.g., a higher demand due to the decreased price should increase the profit). More details about the interpretation of the score can be found in the corresponding [reserach paper](https://proceedings.mlr.press/v162/budhathoki22a.html). Interestingly, the Page Views stand out as a factor explaining the Profit drop that day as indicated in the bar chart shown here.\n",
    "\n",
    "While this method gives us a point estimate of the attributions for the particular models and parameters we learned, we can also use DoWhy’s confidence interval feature, which incorporates uncertainties about the fitted model parameters and algorithmic approximations:"
   ]
  },
  {
   "cell_type": "code",
   "execution_count": 0,
   "metadata": {
    "application/vnd.databricks.v1+cell": {
     "cellMetadata": {
      "byteLimit": 2048000,
      "rowLimit": 10000
     },
     "inputWidgets": {},
     "nuid": "8bb0ea23-9e2e-49b3-a6e7-c25a9ab1d9e9",
     "showTitle": false,
     "title": ""
    }
   },
   "outputs": [],
   "source": [
    "# this disables ML autolog as we are just trying to optimise the process and don't need to log everything\n",
    "import mlflow\n",
    "mlflow.autolog(disable=True)"
   ]
  },
  {
   "cell_type": "code",
   "execution_count": 0,
   "metadata": {
    "application/vnd.databricks.v1+cell": {
     "cellMetadata": {
      "byteLimit": 2048000,
      "rowLimit": 10000
     },
     "inputWidgets": {},
     "nuid": "1dca7bb2-a5ba-4c37-a0a1-a83b4a1ef1c1",
     "showTitle": false,
     "title": ""
    },
    "jupyter": {
     "outputs_hidden": true
    }
   },
   "outputs": [],
   "source": [
    "gcm.config.disable_progress_bars()  # We turn off the progress bars here to reduce the number of outputs.\n",
    "\n",
    "median_attributions, confidence_intervals, = gcm.confidence_intervals(\n",
    "    gcm.fit_and_compute(gcm.attribute_anomalies,\n",
    "                        loaded_scm,\n",
    "                        bootstrap_training_data=data_2021,\n",
    "                        target_node='Profit',\n",
    "                        anomaly_samples=data_first_day_2022),\n",
    "    num_bootstrap_resamples=10)"
   ]
  },
  {
   "cell_type": "code",
   "execution_count": 0,
   "metadata": {
    "application/vnd.databricks.v1+cell": {
     "cellMetadata": {
      "byteLimit": 2048000,
      "rowLimit": 10000
     },
     "inputWidgets": {},
     "nuid": "55fd16db-bb82-4648-91c7-ebf5d0dd68c5",
     "showTitle": false,
     "title": ""
    }
   },
   "outputs": [],
   "source": [
    "bar_plot(median_attributions, confidence_intervals, 'Anomaly attribution score')"
   ]
  },
  {
   "cell_type": "markdown",
   "metadata": {
    "application/vnd.databricks.v1+cell": {
     "cellMetadata": {
      "byteLimit": 2048000,
      "rowLimit": 10000
     },
     "inputWidgets": {},
     "nuid": "e360bda8-91a0-4ecf-b018-ac5fa439670c",
     "showTitle": false,
     "title": ""
    }
   },
   "source": [
    "Note, in this bar chart we see the median attributions over multiple runs on smaller data sets, where each run re-fits the models and re-evaluates the attributions. We get a similar picture as before, but the confidence interval of the attribution to Sold Units also contains zero, meaning its contribution is insignificant. But some important questions still remain: Was this only a coincidence and, if not, which part in our system has changed? To find this out, we need to collect some more data."
   ]
  },
  {
   "cell_type": "markdown",
   "metadata": {
    "application/vnd.databricks.v1+cell": {
     "cellMetadata": {
      "byteLimit": 2048000,
      "rowLimit": 10000
     },
     "inputWidgets": {},
     "nuid": "b034e51d-df2b-4e2d-ba1f-f1cbf29ea29e",
     "showTitle": false,
     "title": ""
    }
   },
   "source": [
    "> Note that the results differ depending on the selected data, since they are sample specific. On other days, other factors could be relevant. Furthermore, note that the analysis (including the confidence intervals) always relies on the modeling assumptions made. In other words, if the models change or have a poor fit, one would also expect different results."
   ]
  },
  {
   "cell_type": "markdown",
   "metadata": {
    "application/vnd.databricks.v1+cell": {
     "cellMetadata": {
      "byteLimit": 2048000,
      "rowLimit": 10000
     },
     "inputWidgets": {},
     "nuid": "d55fb7dd-e99b-473c-8f78-4d36b23f1a4a",
     "showTitle": false,
     "title": ""
    }
   },
   "source": [
    "### What caused the profit drop in Q1 2022?"
   ]
  },
  {
   "cell_type": "markdown",
   "metadata": {
    "application/vnd.databricks.v1+cell": {
     "cellMetadata": {
      "byteLimit": 2048000,
      "rowLimit": 10000
     },
     "inputWidgets": {},
     "nuid": "a6813b6b-4731-493c-bce8-dd23dfd3d053",
     "showTitle": false,
     "title": ""
    }
   },
   "source": [
    "While the previous analysis is based on a single observation, let us see if this was just coincidence or if this is a persistent issue. When preparing the quarterly business report, we have some more data available from the first three months. We first check if the profit dropped on average in the first quarter of 2022 as compared to 2021. Similar as before, we can do this by taking the fraction between the average Profit of 2022 and 2021 for the first quarter:"
   ]
  },
  {
   "cell_type": "code",
   "execution_count": 0,
   "metadata": {
    "application/vnd.databricks.v1+cell": {
     "cellMetadata": {
      "byteLimit": 2048000,
      "rowLimit": 10000
     },
     "inputWidgets": {},
     "nuid": "ede2efca-2c53-4429-a7ef-17c8f2bc4376",
     "showTitle": false,
     "title": ""
    }
   },
   "outputs": [],
   "source": [
    "data_first_quarter_2021 = data_2021[data_2021.index <= '2021-03-31']\n",
    "data_first_quarter_2022 = spark.read.table(f\"{catalog}.{db}.data_first_quarter_2022\")\n",
    "data_first_quarter_2022 = data_first_quarter_2022.toPandas().set_index(\"Date\")\n",
    "\n",
    "(1 - data_first_quarter_2022['Profit'].mean() / data_first_quarter_2021['Profit'].mean()) * 100"
   ]
  },
  {
   "cell_type": "markdown",
   "metadata": {
    "application/vnd.databricks.v1+cell": {
     "cellMetadata": {
      "byteLimit": 2048000,
      "rowLimit": 10000
     },
     "inputWidgets": {},
     "nuid": "de7626d7-f1b6-4f22-845c-2892a6733c47",
     "showTitle": false,
     "title": ""
    }
   },
   "source": [
    "Indeed, the profit drop is persistent in the first quarter of 2022. Now, what is the root cause of this? Let us apply the [distribution change method](https://proceedings.mlr.press/v130/budhathoki21a.html) to identify the part in the system that has changed:"
   ]
  },
  {
   "cell_type": "code",
   "execution_count": 0,
   "metadata": {
    "application/vnd.databricks.v1+cell": {
     "cellMetadata": {
      "byteLimit": 2048000,
      "rowLimit": 10000
     },
     "inputWidgets": {},
     "nuid": "7cbd879f-919e-4457-9e70-d441d776be0f",
     "showTitle": false,
     "title": ""
    }
   },
   "outputs": [],
   "source": [
    "median_attributions, confidence_intervals = gcm.confidence_intervals(\n",
    "    lambda: gcm.distribution_change(loaded_scm,\n",
    "                                    data_first_quarter_2021,\n",
    "                                    data_first_quarter_2022,\n",
    "                                    target_node='Profit',\n",
    "                                    # Here, we are intersted in explaining the differences in the mean.\n",
    "                                    difference_estimation_func=lambda x, y: np.mean(y) - np.mean(x)) \n",
    ")"
   ]
  },
  {
   "cell_type": "code",
   "execution_count": 0,
   "metadata": {
    "application/vnd.databricks.v1+cell": {
     "cellMetadata": {
      "byteLimit": 2048000,
      "rowLimit": 10000
     },
     "inputWidgets": {},
     "nuid": "b3f88dbf-ccef-49af-aa93-c418cece3217",
     "showTitle": false,
     "title": ""
    }
   },
   "outputs": [],
   "source": [
    "bar_plot(median_attributions, confidence_intervals, 'Profit change attribution in $')"
   ]
  },
  {
   "cell_type": "markdown",
   "metadata": {
    "application/vnd.databricks.v1+cell": {
     "cellMetadata": {
      "byteLimit": 2048000,
      "rowLimit": 10000
     },
     "inputWidgets": {},
     "nuid": "a708df78-68d5-47a0-a166-2852008ef363",
     "showTitle": false,
     "title": ""
    }
   },
   "source": [
    "In our case, the distribution change method explains the change in the mean of Profit, i.e., a negative value indicates that a node contributes to a decrease and a positive value to an increase of the mean. Using the bar chart, we get now a very clear picture that the change in Unit Price has actually a slightly positive contribution to the expected Profit due to the increase of Sold Units, but it seems that the issue is coming from the Page Views which has a negative value. While we already understood this as a main driver of the drop at the beginning of 2022, we have now isolated and confirmed that something changed for the Page Views as well. Let’s compare the average Page Views with the previous year."
   ]
  },
  {
   "cell_type": "code",
   "execution_count": 0,
   "metadata": {
    "application/vnd.databricks.v1+cell": {
     "cellMetadata": {
      "byteLimit": 2048000,
      "rowLimit": 10000
     },
     "inputWidgets": {},
     "nuid": "04fcc17a-6834-49e6-898e-dede8eb2ca20",
     "showTitle": false,
     "title": ""
    }
   },
   "outputs": [],
   "source": [
    "(1 - data_first_quarter_2022['Page_Views'].mean() / data_first_quarter_2021['Page_Views'].mean()) * 100"
   ]
  },
  {
   "cell_type": "markdown",
   "metadata": {
    "application/vnd.databricks.v1+cell": {
     "cellMetadata": {
      "byteLimit": 2048000,
      "rowLimit": 10000
     },
     "inputWidgets": {},
     "nuid": "e090c63b-4cea-490e-905d-0f82b8f66bd5",
     "showTitle": false,
     "title": ""
    }
   },
   "source": [
    "Indeed, the number of Page Views dropped by ~14%. Since we eliminated all other potential factors, we can now dive deeper into the Page Views and see what is going on there. This is a hypothetical scenario, but we could imagine it could be due to a change in the search algorithm which ranks this product lower in the results and therefore drives fewer customers to the product page. Knowing this, we could now start mitigating the issue."
   ]
  },
  {
   "cell_type": "markdown",
   "metadata": {
    "application/vnd.databricks.v1+cell": {
     "cellMetadata": {
      "byteLimit": 2048000,
      "rowLimit": 10000
     },
     "inputWidgets": {},
     "nuid": "b199604a-90e4-4dd5-ad0a-e5ec79a02f32",
     "showTitle": false,
     "title": ""
    }
   },
   "source": [
    "© 2024 Databricks, Inc. All rights reserved. The source in this notebook is provided subject to the Databricks License. All included or referenced third party libraries are subject to the licenses set forth below.\n",
    "\n",
    "| library                                | description             | license    | source                                              |\n",
    "|----------------------------------------|-------------------------|------------|-----------------------------------------------------|\n",
    "| dowhy | A Python library for causal inference that supports explicit modeling and testing of causal assumptions | MIT | https://pypi.org/project/dowhy/\n",
    "| networkx | A Python package for the creation, manipulation, and study of the structure, dynamics, and functions of complex networks. | BSD License | https://pypi.org/project/networkx/"
   ]
  },
  {
   "cell_type": "code",
   "execution_count": 0,
   "metadata": {
    "application/vnd.databricks.v1+cell": {
     "cellMetadata": {
      "byteLimit": 2048000,
      "rowLimit": 10000
     },
     "inputWidgets": {},
     "nuid": "97ab31dc-e0d4-419b-a8d3-7d278ac2dd34",
     "showTitle": false,
     "title": ""
    }
   },
   "outputs": [],
   "source": []
  }
 ],
 "metadata": {
  "application/vnd.databricks.v1+notebook": {
   "dashboards": [],
   "environmentMetadata": null,
   "language": "python",
   "notebookMetadata": {
    "pythonIndentUnit": 2
   },
   "notebookName": "02_gcm_online_shop_offline_analysis",
   "widgets": {}
  },
  "kernelspec": {
   "display_name": "Python 3 (ipykernel)",
   "language": "python",
   "name": "python3"
  },
  "language_info": {
   "codemirror_mode": {
    "name": "ipython",
    "version": 3
   },
   "file_extension": ".py",
   "mimetype": "text/x-python",
   "name": "python",
   "nbconvert_exporter": "python",
   "pygments_lexer": "ipython3",
   "version": "3.9.16"
  }
 },
 "nbformat": 4,
 "nbformat_minor": 0
}
