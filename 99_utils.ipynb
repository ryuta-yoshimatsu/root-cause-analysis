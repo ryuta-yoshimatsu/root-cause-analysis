{
 "cells": [
  {
   "cell_type": "code",
   "execution_count": 0,
   "metadata": {
    "application/vnd.databricks.v1+cell": {
     "cellMetadata": {
      "byteLimit": 2048000,
      "rowLimit": 10000
     },
     "inputWidgets": {},
     "nuid": "df0bebef-80a0-4855-bdde-c0156bd53fba",
     "showTitle": false,
     "title": ""
    }
   },
   "outputs": [],
   "source": [
    "import numpy as np\n",
    "import pandas as pd\n",
    "\n",
    "def clean_df(df):\n",
    "  \n",
    "  # Create Spark DataFrame\n",
    "  df = spark.createDataFrame(df)\n",
    "\n",
    "  # Rename the column to remove invalid characters\n",
    "  df = df.withColumnRenamed(\"Shopping Event?\", \"Shopping_Event\")\n",
    "\n",
    "  # Rename columns to replace spaces with underscores\n",
    "  for col in df.columns:\n",
    "    new_col = col.replace(\" \", \"_\")\n",
    "    df = df.withColumnRenamed(col, new_col)\n",
    "\n",
    "  return df\n",
    "\n",
    "\n",
    "def prepare_data(catalog, db):\n",
    "  \n",
    "  # Read into Pandas Dataframe\n",
    "  data_2021 = pd.read_csv('data/2021 Data.csv')\n",
    "  data_first_day_2022 = pd.read_csv('data/2022 First Day.csv')\n",
    "  data_first_quarter_2022 = pd.read_csv('data/2022 First Quarter.csv')\n",
    "\n",
    "  # Create Spark DataFrame\n",
    "  data_2021 = clean_df(data_2021)\n",
    "  data_first_day_2022 = clean_df(data_first_day_2022)\n",
    "  data_first_quarter_2022 = clean_df(data_first_quarter_2022)\n",
    "\n",
    "  # Write to Delta\n",
    "  data_2021.write.format(\"delta\").mode(\"overwrite\").saveAsTable(f\"{catalog}.{db}.data_2021\")\n",
    "  data_first_day_2022.write.format(\"delta\").mode(\"overwrite\").saveAsTable(f\"{catalog}.{db}.data_first_day_2022\")\n",
    "  data_first_quarter_2022.write.format(\"delta\").mode(\"overwrite\").saveAsTable(f\"{catalog}.{db}.data_first_quarter_2022\")\n",
    "  "
   ]
  },
  {
   "cell_type": "code",
   "execution_count": 0,
   "metadata": {
    "application/vnd.databricks.v1+cell": {
     "cellMetadata": {},
     "inputWidgets": {},
     "nuid": "d15f6d18-6da7-49dc-8682-434c3efd6c87",
     "showTitle": false,
     "title": ""
    }
   },
   "outputs": [],
   "source": [
    "#from dowhy.datasets import sales_dataset\n",
    "#data_2021 = sales_dataset(start_date=\"2021-01-01\", end_date=\"2021-12-31\")\n",
    "#data_2022 = sales_dataset(start_date=\"2022-01-01\", end_date=\"2022-12-31\", change_of_price=0.9)"
   ]
  },
  {
   "cell_type": "code",
   "execution_count": 0,
   "metadata": {
    "application/vnd.databricks.v1+cell": {
     "cellMetadata": {},
     "inputWidgets": {},
     "nuid": "1618dea4-5a71-4d29-9479-bac193bf764b",
     "showTitle": false,
     "title": ""
    }
   },
   "outputs": [],
   "source": []
  }
 ],
 "metadata": {
  "application/vnd.databricks.v1+notebook": {
   "dashboards": [],
   "environmentMetadata": null,
   "language": "python",
   "notebookMetadata": {
    "mostRecentlyExecutedCommandWithImplicitDF": {
     "commandId": 2107924853748639,
     "dataframes": [
      "_sqldf"
     ]
    },
    "pythonIndentUnit": 2
   },
   "notebookName": "99_utils",
   "widgets": {}
  },
  "kernelspec": {
   "display_name": "Python 3 (ipykernel)",
   "language": "python",
   "name": "python3"
  },
  "language_info": {
   "codemirror_mode": {
    "name": "ipython",
    "version": 3
   },
   "file_extension": ".py",
   "mimetype": "text/x-python",
   "name": "python",
   "nbconvert_exporter": "python",
   "pygments_lexer": "ipython3",
   "version": "3.9.16"
  }
 },
 "nbformat": 4,
 "nbformat_minor": 0
}
